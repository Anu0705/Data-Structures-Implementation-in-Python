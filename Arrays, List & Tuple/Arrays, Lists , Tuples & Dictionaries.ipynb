{
 "cells": [
  {
   "cell_type": "code",
   "execution_count": 3,
   "id": "16a21369",
   "metadata": {},
   "outputs": [
    {
     "data": {
      "text/plain": [
       "[1, 2, 3, 4, 5, 6]"
      ]
     },
     "execution_count": 3,
     "metadata": {},
     "output_type": "execute_result"
    }
   ],
   "source": [
    "# Arrays\n",
    "# This is the general declaration of an array, resembles with declaration of lists\n",
    "\n",
    "arr = [1, \"eels\"]\n",
    "\n",
    "# get item by index (can be negative to access end of array)\n",
    "arr = [1, 2, 3, 4, 5, 6]\n",
    "arr"
   ]
  },
  {
   "cell_type": "code",
   "execution_count": 4,
   "id": "b5fd0186",
   "metadata": {},
   "outputs": [
    {
     "data": {
      "text/plain": [
       "array('d', [2.1, 3.2, 3.5])"
      ]
     },
     "execution_count": 4,
     "metadata": {},
     "output_type": "execute_result"
    }
   ],
   "source": [
    "# Declaration\n",
    "# Using array module, you can explicitly mention the datatype of all the elements in an array\n",
    "\n",
    "import array as array1\n",
    "import array as array2\n",
    "\n",
    "arr = array1.array(\"i\", [1,3,2,5])\n",
    "arr\n",
    "# print({arr})\n",
    "\n",
    "# This cannot be implemented to take more than one character, this is unicode character only\n",
    "# arr1 = array2.array('u', ['hello','abc'])\n",
    "# arr1\n",
    "\n",
    "# strings in arrays\n",
    "arr1 = ['abc','doll','ball']\n",
    "arr1\n",
    "\n",
    "# float in arrays\n",
    "arr1 = array2.array(\"d\",[2.1,3.2,3.5])\n",
    "arr1"
   ]
  },
  {
   "cell_type": "code",
   "execution_count": 36,
   "id": "de17bdfe",
   "metadata": {},
   "outputs": [
    {
     "name": "stdout",
     "output_type": "stream",
     "text": [
      "1\n",
      "5\n"
     ]
    },
    {
     "data": {
      "text/plain": [
       "array('i', [3, 2, 5, 9])"
      ]
     },
     "execution_count": 36,
     "metadata": {},
     "output_type": "execute_result"
    }
   ],
   "source": [
    "# Accessing, Slicing, Insertion, Deletion\n",
    "\n",
    "arr = array1.array(\"i\", [1,3,2,5])\n",
    "print(arr[0])\n",
    "print(arr[3])\n",
    "\n",
    "arr1 = ['abc','doll','ball']\n",
    "arr1[2]\n",
    "\n",
    "\n",
    "# Slicing - accessing elements in a range or from the start or from the end\n",
    "\n",
    "arr[1:2] # inclusive of first index and exclusive of last index\n",
    "arr1[0:2] # both first and second element are printed but the last element is not printed\n",
    "\n",
    "# Insertion - Inserting new element in the array\n",
    "# Inserting an element can be done in any position that we want, first arg is the index, second is the value\n",
    "arr.insert(2,8)\n",
    "arr\n",
    "\n",
    "# Appending only appends the array elements at the end of the array only\n",
    "arr.append(9)\n",
    "arr\n",
    "\n",
    "arr1.append('cat')\n",
    "arr1\n",
    "\n",
    "# Pop remove an element using the index\n",
    "# Remove removes the element by taking in the value of actual element itself\n",
    "\n",
    "# if there are multiple elements in the array, then array.remove deletes the first occurence of that element in the array\n",
    "\n",
    "arr.remove(8)\n",
    "arr\n",
    "\n",
    "arr1.remove('cat')\n",
    "arr1\n",
    "\n",
    "arr1.pop(0)\n",
    "arr1\n",
    "\n",
    "arr.pop(0)\n",
    "arr"
   ]
  },
  {
   "cell_type": "code",
   "execution_count": 6,
   "id": "fbd9edbc",
   "metadata": {},
   "outputs": [
    {
     "name": "stdout",
     "output_type": "stream",
     "text": [
      "1\n",
      "2\n",
      "3\n",
      "4\n",
      "5\n"
     ]
    }
   ],
   "source": [
    "# Looping through the arrays\n",
    "\n",
    "arr1 = [1,2,3,4,5]\n",
    "arr1\n",
    "\n",
    "len(arr1)\n",
    "\n",
    "for i in range(len(arr1)):\n",
    "    print(arr1[i])"
   ]
  },
  {
   "cell_type": "code",
   "execution_count": 11,
   "id": "95d8b466",
   "metadata": {},
   "outputs": [
    {
     "data": {
      "text/plain": [
       "[1, 2, [1, 2, 3], 'hand', 'bag', 8]"
      ]
     },
     "execution_count": 11,
     "metadata": {},
     "output_type": "execute_result"
    }
   ],
   "source": [
    "# Lists\n",
    "\n",
    "list1 = [1,2,3, 'def', 'ghi']\n",
    "list1\n",
    "\n",
    "# list of lists\n",
    "list1 = [1,2,9, [1,2,3] , 'hand', 'bag']\n",
    "list1\n",
    "\n",
    "# Append\n",
    "list1.append(8)\n",
    "list1\n",
    "\n",
    "# Change the element\n",
    "list1[2] = 3\n",
    "list1\n",
    "\n",
    "# Remove an element\n",
    "list1.remove(3)\n",
    "list1"
   ]
  },
  {
   "cell_type": "code",
   "execution_count": 41,
   "id": "68357bd7",
   "metadata": {},
   "outputs": [
    {
     "name": "stdout",
     "output_type": "stream",
     "text": [
      "1\n",
      "2\n",
      "[1, 2, 3]\n",
      "hand\n",
      "bag\n"
     ]
    },
    {
     "data": {
      "text/plain": [
       "[5, 1, 2, [1, 2, 3], 'hand', 0, 'bag']"
      ]
     },
     "execution_count": 41,
     "metadata": {},
     "output_type": "execute_result"
    }
   ],
   "source": [
    "3  # Accessing, slicing, inserting, removing\n",
    "\n",
    "list1 = [1,2,9, [1,2,3] , 'hand', 'bag']\n",
    "list1\n",
    "\n",
    "# Accessing\n",
    "list1[3]\n",
    "\n",
    "# Slicing\n",
    "list1[-2]\n",
    "list1[0:3] # inclusive of 0th index and exclusive of 3rd indexed element\n",
    "list1[0:1]\n",
    "\n",
    "#Inserting already covered , negative index\n",
    "# list1.append(-1,5)\n",
    "\n",
    "#Removing by index\n",
    "list1.pop(2)\n",
    "list1\n",
    "\n",
    "# Looping\n",
    "\n",
    "for i in range(len(list1)):\n",
    "    print (list1[i])\n",
    "    \n",
    "# when an element is inserted at a specific position, it will be replaced with the new element, the old element will move to the next position\n",
    "\n",
    "list1.insert(0,5) \n",
    "list1\n",
    "\n",
    "# insertion with negative index\n",
    "list1.insert(-1,0) # even from the right side, index starts with 0 itself, -1 is the element at the second index from the right\n",
    "list1"
   ]
  },
  {
   "cell_type": "code",
   "execution_count": 7,
   "id": "398af4ea",
   "metadata": {},
   "outputs": [
    {
     "data": {
      "text/plain": [
       "4"
      ]
     },
     "execution_count": 7,
     "metadata": {},
     "output_type": "execute_result"
    }
   ],
   "source": [
    "# get the index of an element in a list\n",
    "\n",
    "list1 = [1,2,3,4,5]\n",
    "\n",
    "a = list1.index(5)\n",
    "a"
   ]
  },
  {
   "cell_type": "code",
   "execution_count": 10,
   "id": "4ccf7fa6",
   "metadata": {},
   "outputs": [
    {
     "data": {
      "text/plain": [
       "'sad'"
      ]
     },
     "execution_count": 10,
     "metadata": {},
     "output_type": "execute_result"
    }
   ],
   "source": [
    "# Tuples\n",
    "\n",
    "# tuple1 = tuple(1,2,'sad', 'happy', 'okay', 6)\n",
    "# tuple1\n",
    "\n",
    "#  this gives an error, cannot give both constructor and elements inside it together\n",
    "\n",
    "tuple1 = tuple()\n",
    "tuple1 = (1,2,'sad', 'happy', 'okay', 6)\n",
    "tuple1\n",
    "\n",
    "# Accessing, Inserting and Removing\n",
    "\n",
    "# tuple1(2) # this throws an error\n",
    "tuple1[2] # must be accessed like an array only\n",
    "\n",
    "# tuple1.append(8) # cannot add values to the tuple\n",
    "\n",
    "# tuple1.remove(1) # cannot delete or remove the values from a tuple"
   ]
  },
  {
   "cell_type": "code",
   "execution_count": 19,
   "id": "afc428e8",
   "metadata": {},
   "outputs": [
    {
     "data": {
      "text/plain": [
       "{'MS': 'Mississippi', 'VA': 'Florida', 'AL': 'Alabama', 'DC': 'Washington'}"
      ]
     },
     "execution_count": 19,
     "metadata": {},
     "output_type": "execute_result"
    }
   ],
   "source": [
    "# Dictionaries\n",
    "\n",
    "states = { 'MS' : 'Mississippi', 'VA' : 'Virginia',\n",
    "'AL' : 'Alabama', 'DC' : 'Washington' }\n",
    "\n",
    "# accessing\n",
    "\n",
    "# element access is like a list/array, however they are accessed using the key value\n",
    "states['DC']\n",
    "\n",
    "# the key must exist in the dictionary when trying to access it\n",
    "dict1 = {0:'a',1:'b',2:'c',3:'d'}\n",
    "dict1[2]\n",
    "\n",
    "# modify a dictionary\n",
    "\n",
    "states['VA'] ='Florida'\n",
    "states\n",
    "\n",
    "# new enteries can be added to the dictionary\n",
    "\n",
    "states['OR'] = 'Orlando'\n",
    "states\n",
    "\n",
    "# remove entry in dictionary\n",
    "\n",
    "states.pop('OR')\n",
    "# del states['OR']\n",
    "states"
   ]
  }
 ],
 "metadata": {
  "kernelspec": {
   "display_name": "Python 3",
   "language": "python",
   "name": "python3"
  },
  "language_info": {
   "codemirror_mode": {
    "name": "ipython",
    "version": 3
   },
   "file_extension": ".py",
   "mimetype": "text/x-python",
   "name": "python",
   "nbconvert_exporter": "python",
   "pygments_lexer": "ipython3",
   "version": "3.8.8"
  }
 },
 "nbformat": 4,
 "nbformat_minor": 5
}
